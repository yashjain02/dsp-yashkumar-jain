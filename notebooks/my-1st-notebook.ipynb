{
 "cells": [
  {
   "cell_type": "code",
   "execution_count": 3,
   "id": "ec4f0a09",
   "metadata": {},
   "outputs": [
    {
     "name": "stdout",
     "output_type": "stream",
     "text": [
      "[[65 71 53]\n",
      " [58 84 19]\n",
      " [12 58 65]\n",
      " [60 83 52]\n",
      " [19 94 59]\n",
      " [50 96 96]\n",
      " [31 33 59]\n",
      " [51  5  4]\n",
      " [28  9 33]\n",
      " [10 24 10]]\n"
     ]
    }
   ],
   "source": [
    "from numpy import random\n",
    "MyList=random.randint(100,size=30)\n",
    "MyList.resize(10,3)\n",
    "print(MyList)"
   ]
  },
  {
   "cell_type": "code",
   "execution_count": null,
   "id": "3b50888f",
   "metadata": {},
   "outputs": [],
   "source": []
  }
 ],
 "metadata": {
  "kernelspec": {
   "display_name": "Python 3 (ipykernel)",
   "language": "python",
   "name": "python3"
  },
  "language_info": {
   "codemirror_mode": {
    "name": "ipython",
    "version": 3
   },
   "file_extension": ".py",
   "mimetype": "text/x-python",
   "name": "python",
   "nbconvert_exporter": "python",
   "pygments_lexer": "ipython3",
   "version": "3.9.11"
  }
 },
 "nbformat": 4,
 "nbformat_minor": 5
}
