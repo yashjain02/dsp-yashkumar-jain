{
 "cells": [
  {
   "cell_type": "markdown",
   "id": "c9ef70e0",
   "metadata": {},
   "source": [
    "# House-Price-Model(Linear Regression)"
   ]
  },
  {
   "cell_type": "markdown",
   "id": "35338342",
   "metadata": {},
   "source": [
    "###  Importing modules"
   ]
  },
  {
   "cell_type": "code",
   "execution_count": 393,
   "id": "44d6d58e",
   "metadata": {},
   "outputs": [],
   "source": [
    "import numpy as np\n",
    "import pandas as pd\n",
    "import matplotlib.pyplot as plt\n",
    "from sklearn.model_selection import train_test_split\n",
    "from sklearn.metrics import r2_score\n",
    "from sklearn.impute import SimpleImputer\n",
    "from sklearn.preprocessing import OrdinalEncoder\n",
    "from sklearn.preprocessing import OneHotEncoder\n",
    "from sklearn.preprocessing import StandardScaler\n",
    "from sklearn.linear_model import LinearRegression\n",
    "from sklearn.metrics import mean_squared_log_error\n",
    "import joblib"
   ]
  },
  {
   "cell_type": "markdown",
   "id": "0a043fee",
   "metadata": {},
   "source": [
    "### Reading File"
   ]
  },
  {
   "cell_type": "markdown",
   "id": "141630a0",
   "metadata": {},
   "source": [
    "### Taking features which has correlation greater than 0.6"
   ]
  },
  {
   "cell_type": "code",
   "execution_count": 398,
   "id": "3810c80f",
   "metadata": {},
   "outputs": [],
   "source": [
    "def numerical_features(df):\n",
    "    numerical_data = df[['OverallQual','GrLivArea','GarageCars','GarageArea','TotalBsmtSF','SalePrice']] \n",
    "    return numerical_data"
   ]
  },
  {
   "cell_type": "code",
   "execution_count": 400,
   "id": "1a3052f5",
   "metadata": {},
   "outputs": [],
   "source": [
    "def get_categorical_feature(df):\n",
    "    features_categorical=df.select_dtypes(include=['object'])\n",
    "    return features_categorical"
   ]
  },
  {
   "cell_type": "code",
   "execution_count": 404,
   "id": "fa3a959f",
   "metadata": {},
   "outputs": [],
   "source": [
    "def concat_num_cat_features(categorical,numerical):\n",
    "    categorical.index = numerical.index\n",
    "    train= pd.concat([categorical, numerical], axis=1)\n",
    "    return train"
   ]
  },
  {
   "cell_type": "code",
   "execution_count": 421,
   "id": "c51504e4",
   "metadata": {},
   "outputs": [],
   "source": [
    "def compute_rmsle(y_test: np.ndarray, y_pred: np.ndarray, precision: int = 2) -> float:\n",
    "    rmsle = np.sqrt(mean_squared_log_error(y_test, y_pred))\n",
    "    return round(rmsle, precision)"
   ]
  },
  {
   "cell_type": "code",
   "execution_count": 477,
   "id": "98311652",
   "metadata": {},
   "outputs": [],
   "source": [
    "def split_data(features,target):\n",
    "    features_train, features_validation, target_train, target_validation = train_test_split(features,target, test_size = 0.2, random_state=0)\n",
    "    return features_train, features_validation, target_train, target_validation"
   ]
  },
  {
   "cell_type": "code",
   "execution_count": 478,
   "id": "40310dd0",
   "metadata": {},
   "outputs": [],
   "source": [
    "def Add_encoder(features_train_categorical):\n",
    "    ordinal=OrdinalEncoder(handle_unknown='use_encoded_value',unknown_value=100)\n",
    "    ordinal.fit(features_train_categorical)\n",
    "    joblib.dump(ordinal,\"../models/ordinalEncoding\")"
   ]
  },
  {
   "cell_type": "code",
   "execution_count": 479,
   "id": "821c9cd4",
   "metadata": {},
   "outputs": [],
   "source": [
    "def Add_Scaling_object(features_train):\n",
    "    sc = StandardScaler()\n",
    "    sc.fit(features_train)\n",
    "    joblib.dump(sc,\"../models/Scaler\")"
   ]
  },
  {
   "cell_type": "code",
   "execution_count": 489,
   "id": "47697b57",
   "metadata": {},
   "outputs": [],
   "source": [
    "def fill_missing_value_object(features_train):\n",
    "    imputer = SimpleImputer(missing_values=np.nan, strategy='median')\n",
    "    imputer.fit(features_train)\n",
    "    joblib.dump(imputer,\"../models/SimpleImputer\")"
   ]
  },
  {
   "cell_type": "code",
   "execution_count": 490,
   "id": "fd80b3b3",
   "metadata": {},
   "outputs": [],
   "source": [
    "def scaling(features_train):\n",
    "    sft=joblib.load(\"../models/Scaler\")\n",
    "    features_train=sft.transform(features_train)\n",
    "    return features_train"
   ]
  },
  {
   "cell_type": "code",
   "execution_count": 491,
   "id": "6f27abe1",
   "metadata": {},
   "outputs": [],
   "source": [
    "def fill_missing_value(features_train):\n",
    "    SI=joblib.load(\"../models/SimpleImputer\")\n",
    "    features_train = SI.transform(features_train)\n",
    "    return features_train"
   ]
  },
  {
   "cell_type": "code",
   "execution_count": 492,
   "id": "5cf43d77",
   "metadata": {},
   "outputs": [],
   "source": [
    "def encoder(features_train_categorical):\n",
    "    oe=joblib.load(\"../models/ordinalEncoding\")\n",
    "    features_train_categorical[features_train_categorical.columns]=pd.DataFrame(oe.transform(features_train_categorical))\n",
    "    return features_train_categorical"
   ]
  },
  {
   "cell_type": "code",
   "execution_count": 493,
   "id": "2ba727dd",
   "metadata": {},
   "outputs": [],
   "source": [
    "def model_preprocessing(features_train):\n",
    "    \n",
    "    features_train_numerical=numerical_features(features_train)\n",
    "    features_train_categorical=get_categorical_feature(features_train)\n",
    "    Add_encoder(features_train_categorical)\n",
    "    features_train_categorical=encoder(features_train_categorical)\n",
    "    features_train=concat_num_cat_features(features_train_categorical,features_train_numerical)\n",
    "    features_train=features_train[['OverallQual','GrLivArea','Foundation','Neighborhood']]\n",
    "    Add_Scaling_object(features_train)\n",
    "    features_train=scaling(features_train)\n",
    "    fill_missing_value_object(features_train)\n",
    "    features_train=fill_missing_value(features_train)\n",
    "    return features_train"
   ]
  },
  {
   "cell_type": "code",
   "execution_count": 494,
   "id": "095fa4cd",
   "metadata": {},
   "outputs": [],
   "source": [
    "def model_training(features_train,target_train):\n",
    "    multi_regression_model = LinearRegression()\n",
    "    multi_regression_model.fit(features_train,target_train)\n",
    "    joblib.dump(multi_regression_model,\"../models/model\")"
   ]
  },
  {
   "cell_type": "code",
   "execution_count": 495,
   "id": "6402e554",
   "metadata": {},
   "outputs": [],
   "source": [
    "def model_evaluation(features_validation,target_validation):\n",
    "    features_validation= model_preprocessing(features_validation)\n",
    "    pr=joblib.load(\"../models/model\")\n",
    "    feature_target_prediction = pr.predict(features_validation)\n",
    "    feature_target_prediction = pd.DataFrame(feature_target_prediction,columns=['SalePrice'])\n",
    "    rmse=compute_rmsle(target_validation,feature_target_prediction)\n",
    "    return rmse"
   ]
  },
  {
   "cell_type": "code",
   "execution_count": 496,
   "id": "ba3ac31b",
   "metadata": {},
   "outputs": [],
   "source": [
    "def build_model(features):  \n",
    "    Train_data_copy=features\n",
    "    target=features['SalePrice']\n",
    "    features_train, features_validation, target_train, target_validation=split_data(features,target)\n",
    "    #features_train, features_validation, target_train, target_validation\n",
    "    features_train = model_preprocessing(features_train)\n",
    "    multi_regression_model = LinearRegression()\n",
    "    multi_regression_model.fit(features_train,target_train)\n",
    "    joblib.dump(multi_regression_model,\"../models/model\")\n",
    "    eva=model_evaluation(features_validation,target_validation)\n",
    "    return eva"
   ]
  },
  {
   "cell_type": "code",
   "execution_count": 497,
   "id": "3355ed46",
   "metadata": {},
   "outputs": [
    {
     "name": "stdout",
     "output_type": "stream",
     "text": [
      "0.21\n"
     ]
    }
   ],
   "source": [
    "features=pd.read_csv('F:/Master SEM-2/dsp-yashkumar-jain/data/house-prices-advanced-regression-techniques/train.csv')\n",
    "a=build_model(features)\n",
    "print(a)"
   ]
  },
  {
   "cell_type": "code",
   "execution_count": 504,
   "id": "80be33fe",
   "metadata": {},
   "outputs": [],
   "source": [
    "def make_predictions(test):\n",
    "    test_numerical=test[['OverallQual','GrLivArea','GarageCars','GarageArea','TotalBsmtSF']]\n",
    "    test_categorical=get_categorical_feature(test)\n",
    "    test_categorical=encoder(test_categorical)\n",
    "    test=concat_num_cat_features(test_categorical,test_numerical)\n",
    "    test=test[['OverallQual','GrLivArea','Foundation','Neighborhood']]\n",
    "    test=scaling(test)\n",
    "    test=fill_missing_value(test)\n",
    "    model=joblib.load(\"../models/model\")\n",
    "    Final_prediction = model.predict(test)\n",
    "    return Final_prediction"
   ]
  },
  {
   "cell_type": "code",
   "execution_count": 505,
   "id": "8844275d",
   "metadata": {},
   "outputs": [
    {
     "data": {
      "text/plain": [
       "array([114647.10585787, 168384.45842006, 148939.24351283, ...,\n",
       "       132198.86573247, 113813.65534678, 230134.11246829])"
      ]
     },
     "execution_count": 505,
     "metadata": {},
     "output_type": "execute_result"
    }
   ],
   "source": [
    "test=pd.read_csv('F:/Master SEM-2/dsp-yashkumar-jain/data/house-prices-advanced-regression-techniques/test.csv')\n",
    "final=make_predictions(test)\n",
    "final"
   ]
  },
  {
   "cell_type": "code",
   "execution_count": null,
   "id": "70b2aa1e",
   "metadata": {},
   "outputs": [],
   "source": []
  }
 ],
 "metadata": {
  "kernelspec": {
   "display_name": "Python 3 (ipykernel)",
   "language": "python",
   "name": "python3"
  },
  "language_info": {
   "codemirror_mode": {
    "name": "ipython",
    "version": 3
   },
   "file_extension": ".py",
   "mimetype": "text/x-python",
   "name": "python",
   "nbconvert_exporter": "python",
   "pygments_lexer": "ipython3",
   "version": "3.9.11"
  }
 },
 "nbformat": 4,
 "nbformat_minor": 5
}
